{
 "cells": [
  {
   "cell_type": "code",
   "execution_count": 78,
   "metadata": {},
   "outputs": [],
   "source": [
    "import pandas as pd\n",
    "from sklearn.linear_model import Ridge, Lasso\n",
    "from sklearn.model_selection import train_test_split\n",
    "from sklearn.metrics import mean_squared_error, r2_score\n",
    "import numpy as np"
   ]
  },
  {
   "cell_type": "code",
   "execution_count": 79,
   "metadata": {},
   "outputs": [],
   "source": [
    "df = pd.read_csv('combined_data.csv', delimiter=',')"
   ]
  },
  {
   "cell_type": "code",
   "execution_count": 80,
   "metadata": {},
   "outputs": [
    {
     "data": {
      "text/html": [
       "<div>\n",
       "<style scoped>\n",
       "    .dataframe tbody tr th:only-of-type {\n",
       "        vertical-align: middle;\n",
       "    }\n",
       "\n",
       "    .dataframe tbody tr th {\n",
       "        vertical-align: top;\n",
       "    }\n",
       "\n",
       "    .dataframe thead th {\n",
       "        text-align: right;\n",
       "    }\n",
       "</style>\n",
       "<table border=\"1\" class=\"dataframe\">\n",
       "  <thead>\n",
       "    <tr style=\"text-align: right;\">\n",
       "      <th></th>\n",
       "      <th>Unnamed: 0</th>\n",
       "      <th>LYB UN Equity Twitter Sentiment Daily Average</th>\n",
       "      <th>AXP UN Equity Twitter Sentiment Daily Average</th>\n",
       "      <th>VZ UN Equity Twitter Sentiment Daily Average</th>\n",
       "      <th>AVGO UW Equity Twitter Sentiment Daily Average</th>\n",
       "      <th>BA UN Equity Twitter Sentiment Daily Average</th>\n",
       "      <th>CAT UN Equity Twitter Sentiment Daily Average</th>\n",
       "      <th>JPM UN Equity Twitter Sentiment Daily Average</th>\n",
       "      <th>CVX UN Equity Twitter Sentiment Daily Average</th>\n",
       "      <th>KO UN Equity Twitter Sentiment Daily Average</th>\n",
       "      <th>...</th>\n",
       "      <th>JPM</th>\n",
       "      <th>KO</th>\n",
       "      <th>LYB</th>\n",
       "      <th>NVDA</th>\n",
       "      <th>SPY</th>\n",
       "      <th>TSLA</th>\n",
       "      <th>VZ</th>\n",
       "      <th>gdp</th>\n",
       "      <th>cpi</th>\n",
       "      <th>unemployment_rate</th>\n",
       "    </tr>\n",
       "  </thead>\n",
       "  <tbody>\n",
       "    <tr>\n",
       "      <th>0</th>\n",
       "      <td>2019-05-13</td>\n",
       "      <td>0.0000</td>\n",
       "      <td>-0.0498</td>\n",
       "      <td>-0.0149</td>\n",
       "      <td>0.0325</td>\n",
       "      <td>-0.0566</td>\n",
       "      <td>-0.1278</td>\n",
       "      <td>0.0982</td>\n",
       "      <td>0.0557</td>\n",
       "      <td>-0.0074</td>\n",
       "      <td>...</td>\n",
       "      <td>-0.027198</td>\n",
       "      <td>-0.002905</td>\n",
       "      <td>-0.033390</td>\n",
       "      <td>-0.061427</td>\n",
       "      <td>-0.025130</td>\n",
       "      <td>-0.052229</td>\n",
       "      <td>-0.002811</td>\n",
       "      <td>3.4</td>\n",
       "      <td>1.8</td>\n",
       "      <td>3.6</td>\n",
       "    </tr>\n",
       "    <tr>\n",
       "      <th>1</th>\n",
       "      <td>2019-05-14</td>\n",
       "      <td>-0.0384</td>\n",
       "      <td>0.0000</td>\n",
       "      <td>-0.0182</td>\n",
       "      <td>0.1987</td>\n",
       "      <td>-0.0543</td>\n",
       "      <td>-0.1077</td>\n",
       "      <td>-0.0246</td>\n",
       "      <td>0.0803</td>\n",
       "      <td>0.0194</td>\n",
       "      <td>...</td>\n",
       "      <td>0.007949</td>\n",
       "      <td>0.013319</td>\n",
       "      <td>0.007760</td>\n",
       "      <td>0.022657</td>\n",
       "      <td>0.009043</td>\n",
       "      <td>0.023347</td>\n",
       "      <td>-0.003524</td>\n",
       "      <td>3.4</td>\n",
       "      <td>1.8</td>\n",
       "      <td>3.6</td>\n",
       "    </tr>\n",
       "    <tr>\n",
       "      <th>2</th>\n",
       "      <td>2019-05-15</td>\n",
       "      <td>0.0521</td>\n",
       "      <td>-0.0077</td>\n",
       "      <td>0.0029</td>\n",
       "      <td>0.0708</td>\n",
       "      <td>-0.0243</td>\n",
       "      <td>-0.0749</td>\n",
       "      <td>0.0260</td>\n",
       "      <td>0.0298</td>\n",
       "      <td>0.1013</td>\n",
       "      <td>...</td>\n",
       "      <td>-0.003807</td>\n",
       "      <td>0.010064</td>\n",
       "      <td>0.002732</td>\n",
       "      <td>-0.015181</td>\n",
       "      <td>0.005857</td>\n",
       "      <td>-0.001550</td>\n",
       "      <td>0.004598</td>\n",
       "      <td>3.4</td>\n",
       "      <td>1.8</td>\n",
       "      <td>3.6</td>\n",
       "    </tr>\n",
       "    <tr>\n",
       "      <th>3</th>\n",
       "      <td>2019-05-16</td>\n",
       "      <td>0.1392</td>\n",
       "      <td>0.0022</td>\n",
       "      <td>0.0120</td>\n",
       "      <td>-0.0347</td>\n",
       "      <td>-0.0183</td>\n",
       "      <td>-0.0354</td>\n",
       "      <td>-0.1119</td>\n",
       "      <td>0.0755</td>\n",
       "      <td>-0.0033</td>\n",
       "      <td>...</td>\n",
       "      <td>0.012830</td>\n",
       "      <td>0.008134</td>\n",
       "      <td>0.013128</td>\n",
       "      <td>0.003822</td>\n",
       "      <td>0.009261</td>\n",
       "      <td>-0.015607</td>\n",
       "      <td>0.010033</td>\n",
       "      <td>3.4</td>\n",
       "      <td>1.8</td>\n",
       "      <td>3.6</td>\n",
       "    </tr>\n",
       "    <tr>\n",
       "      <th>4</th>\n",
       "      <td>2019-05-17</td>\n",
       "      <td>0.0127</td>\n",
       "      <td>0.0165</td>\n",
       "      <td>-0.0009</td>\n",
       "      <td>0.0284</td>\n",
       "      <td>-0.0081</td>\n",
       "      <td>-0.0803</td>\n",
       "      <td>-0.1576</td>\n",
       "      <td>0.0878</td>\n",
       "      <td>0.0161</td>\n",
       "      <td>...</td>\n",
       "      <td>-0.004851</td>\n",
       "      <td>-0.007665</td>\n",
       "      <td>-0.020171</td>\n",
       "      <td>-0.022848</td>\n",
       "      <td>-0.006465</td>\n",
       "      <td>-0.075767</td>\n",
       "      <td>0.012374</td>\n",
       "      <td>3.4</td>\n",
       "      <td>1.8</td>\n",
       "      <td>3.6</td>\n",
       "    </tr>\n",
       "  </tbody>\n",
       "</table>\n",
       "<p>5 rows × 31 columns</p>\n",
       "</div>"
      ],
      "text/plain": [
       "   Unnamed: 0  LYB UN Equity Twitter Sentiment Daily Average  \\\n",
       "0  2019-05-13                                         0.0000   \n",
       "1  2019-05-14                                        -0.0384   \n",
       "2  2019-05-15                                         0.0521   \n",
       "3  2019-05-16                                         0.1392   \n",
       "4  2019-05-17                                         0.0127   \n",
       "\n",
       "   AXP UN Equity Twitter Sentiment Daily Average  \\\n",
       "0                                        -0.0498   \n",
       "1                                         0.0000   \n",
       "2                                        -0.0077   \n",
       "3                                         0.0022   \n",
       "4                                         0.0165   \n",
       "\n",
       "   VZ UN Equity Twitter Sentiment Daily Average  \\\n",
       "0                                       -0.0149   \n",
       "1                                       -0.0182   \n",
       "2                                        0.0029   \n",
       "3                                        0.0120   \n",
       "4                                       -0.0009   \n",
       "\n",
       "   AVGO UW Equity Twitter Sentiment Daily Average  \\\n",
       "0                                          0.0325   \n",
       "1                                          0.1987   \n",
       "2                                          0.0708   \n",
       "3                                         -0.0347   \n",
       "4                                          0.0284   \n",
       "\n",
       "   BA UN Equity Twitter Sentiment Daily Average  \\\n",
       "0                                       -0.0566   \n",
       "1                                       -0.0543   \n",
       "2                                       -0.0243   \n",
       "3                                       -0.0183   \n",
       "4                                       -0.0081   \n",
       "\n",
       "   CAT UN Equity Twitter Sentiment Daily Average  \\\n",
       "0                                        -0.1278   \n",
       "1                                        -0.1077   \n",
       "2                                        -0.0749   \n",
       "3                                        -0.0354   \n",
       "4                                        -0.0803   \n",
       "\n",
       "   JPM UN Equity Twitter Sentiment Daily Average  \\\n",
       "0                                         0.0982   \n",
       "1                                        -0.0246   \n",
       "2                                         0.0260   \n",
       "3                                        -0.1119   \n",
       "4                                        -0.1576   \n",
       "\n",
       "   CVX UN Equity Twitter Sentiment Daily Average  \\\n",
       "0                                         0.0557   \n",
       "1                                         0.0803   \n",
       "2                                         0.0298   \n",
       "3                                         0.0755   \n",
       "4                                         0.0878   \n",
       "\n",
       "   KO UN Equity Twitter Sentiment Daily Average  ...       JPM        KO  \\\n",
       "0                                       -0.0074  ... -0.027198 -0.002905   \n",
       "1                                        0.0194  ...  0.007949  0.013319   \n",
       "2                                        0.1013  ... -0.003807  0.010064   \n",
       "3                                       -0.0033  ...  0.012830  0.008134   \n",
       "4                                        0.0161  ... -0.004851 -0.007665   \n",
       "\n",
       "        LYB      NVDA       SPY      TSLA        VZ  gdp  cpi  \\\n",
       "0 -0.033390 -0.061427 -0.025130 -0.052229 -0.002811  3.4  1.8   \n",
       "1  0.007760  0.022657  0.009043  0.023347 -0.003524  3.4  1.8   \n",
       "2  0.002732 -0.015181  0.005857 -0.001550  0.004598  3.4  1.8   \n",
       "3  0.013128  0.003822  0.009261 -0.015607  0.010033  3.4  1.8   \n",
       "4 -0.020171 -0.022848 -0.006465 -0.075767  0.012374  3.4  1.8   \n",
       "\n",
       "   unemployment_rate  \n",
       "0                3.6  \n",
       "1                3.6  \n",
       "2                3.6  \n",
       "3                3.6  \n",
       "4                3.6  \n",
       "\n",
       "[5 rows x 31 columns]"
      ]
     },
     "execution_count": 80,
     "metadata": {},
     "output_type": "execute_result"
    }
   ],
   "source": [
    "df.head()"
   ]
  },
  {
   "cell_type": "code",
   "execution_count": 144,
   "metadata": {},
   "outputs": [],
   "source": [
    "df['ABBV Twitter Sentiment Daily Average'] = df['ABBV UN Equity Twitter Sentiment Daily Average']\n",
    "df['AVGO Twitter Sentiment Daily Average'] = df['AVGO UW Equity Twitter Sentiment Daily Average']\n",
    "df['AXP Twitter Sentiment Daily Average'] = df['AXP UN Equity Twitter Sentiment Daily Average']\n",
    "df['BA Twitter Sentiment Daily Average'] = df['BA UN Equity Twitter Sentiment Daily Average']\n",
    "df['CAT Twitter Sentiment Daily Average'] = df['CAT UN Equity Twitter Sentiment Daily Average']\n",
    "df['CMG Twitter Sentiment Daily Average'] = df['CMG US Equity Twitter Sentiment Daily Average']\n",
    "df['CVX Twitter Sentiment Daily Average'] = df['CVX UN Equity Twitter Sentiment Daily Average']\n",
    "df['JPM Twitter Sentiment Daily Average'] = df['JPM UN Equity Twitter Sentiment Daily Average']\n",
    "df['KO Twitter Sentiment Daily Average'] = df['KO UN Equity Twitter Sentiment Daily Average']\n",
    "df['LYB Twitter Sentiment Daily Average'] = df['LYB UN Equity Twitter Sentiment Daily Average']\n",
    "df['NVDA Twitter Sentiment Daily Average'] = df['NVDA US Equity Twitter Sentiment Daily Average']\n",
    "df['VZ Twitter Sentiment Daily Average'] = df['VZ UN Equity Twitter Sentiment Daily Average']\n",
    "df['TSLA Twitter Sentiment Daily Average'] = df['TSLA US Equity Twitter Sentiment Daily Average']"
   ]
  },
  {
   "cell_type": "code",
   "execution_count": 82,
   "metadata": {},
   "outputs": [
    {
     "data": {
      "text/html": [
       "<div>\n",
       "<style scoped>\n",
       "    .dataframe tbody tr th:only-of-type {\n",
       "        vertical-align: middle;\n",
       "    }\n",
       "\n",
       "    .dataframe tbody tr th {\n",
       "        vertical-align: top;\n",
       "    }\n",
       "\n",
       "    .dataframe thead th {\n",
       "        text-align: right;\n",
       "    }\n",
       "</style>\n",
       "<table border=\"1\" class=\"dataframe\">\n",
       "  <thead>\n",
       "    <tr style=\"text-align: right;\">\n",
       "      <th></th>\n",
       "      <th>Unnamed: 0</th>\n",
       "      <th>LYB UN Equity Twitter Sentiment Daily Average</th>\n",
       "      <th>AXP UN Equity Twitter Sentiment Daily Average</th>\n",
       "      <th>VZ UN Equity Twitter Sentiment Daily Average</th>\n",
       "      <th>AVGO UW Equity Twitter Sentiment Daily Average</th>\n",
       "      <th>BA UN Equity Twitter Sentiment Daily Average</th>\n",
       "      <th>CAT UN Equity Twitter Sentiment Daily Average</th>\n",
       "      <th>JPM UN Equity Twitter Sentiment Daily Average</th>\n",
       "      <th>CVX UN Equity Twitter Sentiment Daily Average</th>\n",
       "      <th>KO UN Equity Twitter Sentiment Daily Average</th>\n",
       "      <th>...</th>\n",
       "      <th>AXP Twitter Sentiment Daily Average</th>\n",
       "      <th>BA Twitter Sentiment Daily Average</th>\n",
       "      <th>CAT Twitter Sentiment Daily Average</th>\n",
       "      <th>CMG Twitter Sentiment Daily Average</th>\n",
       "      <th>CVX Twitter Sentiment Daily Average</th>\n",
       "      <th>JPM Twitter Sentiment Daily Average</th>\n",
       "      <th>KO Twitter Sentiment Daily Average</th>\n",
       "      <th>LYB Twitter Sentiment Daily Average</th>\n",
       "      <th>NVDA Twitter Sentiment Daily Average</th>\n",
       "      <th>VZ Twitter Sentiment Daily Average</th>\n",
       "    </tr>\n",
       "  </thead>\n",
       "  <tbody>\n",
       "    <tr>\n",
       "      <th>0</th>\n",
       "      <td>2019-05-13</td>\n",
       "      <td>0.0000</td>\n",
       "      <td>-0.0498</td>\n",
       "      <td>-0.0149</td>\n",
       "      <td>0.0325</td>\n",
       "      <td>-0.0566</td>\n",
       "      <td>-0.1278</td>\n",
       "      <td>0.0982</td>\n",
       "      <td>0.0557</td>\n",
       "      <td>-0.0074</td>\n",
       "      <td>...</td>\n",
       "      <td>-0.0498</td>\n",
       "      <td>-0.0566</td>\n",
       "      <td>-0.1278</td>\n",
       "      <td>-0.0144</td>\n",
       "      <td>0.0557</td>\n",
       "      <td>0.0982</td>\n",
       "      <td>-0.0074</td>\n",
       "      <td>0.0000</td>\n",
       "      <td>-0.0087</td>\n",
       "      <td>-0.0149</td>\n",
       "    </tr>\n",
       "    <tr>\n",
       "      <th>1</th>\n",
       "      <td>2019-05-14</td>\n",
       "      <td>-0.0384</td>\n",
       "      <td>0.0000</td>\n",
       "      <td>-0.0182</td>\n",
       "      <td>0.1987</td>\n",
       "      <td>-0.0543</td>\n",
       "      <td>-0.1077</td>\n",
       "      <td>-0.0246</td>\n",
       "      <td>0.0803</td>\n",
       "      <td>0.0194</td>\n",
       "      <td>...</td>\n",
       "      <td>0.0000</td>\n",
       "      <td>-0.0543</td>\n",
       "      <td>-0.1077</td>\n",
       "      <td>-0.0233</td>\n",
       "      <td>0.0803</td>\n",
       "      <td>-0.0246</td>\n",
       "      <td>0.0194</td>\n",
       "      <td>-0.0384</td>\n",
       "      <td>-0.0255</td>\n",
       "      <td>-0.0182</td>\n",
       "    </tr>\n",
       "    <tr>\n",
       "      <th>2</th>\n",
       "      <td>2019-05-15</td>\n",
       "      <td>0.0521</td>\n",
       "      <td>-0.0077</td>\n",
       "      <td>0.0029</td>\n",
       "      <td>0.0708</td>\n",
       "      <td>-0.0243</td>\n",
       "      <td>-0.0749</td>\n",
       "      <td>0.0260</td>\n",
       "      <td>0.0298</td>\n",
       "      <td>0.1013</td>\n",
       "      <td>...</td>\n",
       "      <td>-0.0077</td>\n",
       "      <td>-0.0243</td>\n",
       "      <td>-0.0749</td>\n",
       "      <td>0.0422</td>\n",
       "      <td>0.0298</td>\n",
       "      <td>0.0260</td>\n",
       "      <td>0.1013</td>\n",
       "      <td>0.0521</td>\n",
       "      <td>-0.0151</td>\n",
       "      <td>0.0029</td>\n",
       "    </tr>\n",
       "    <tr>\n",
       "      <th>3</th>\n",
       "      <td>2019-05-16</td>\n",
       "      <td>0.1392</td>\n",
       "      <td>0.0022</td>\n",
       "      <td>0.0120</td>\n",
       "      <td>-0.0347</td>\n",
       "      <td>-0.0183</td>\n",
       "      <td>-0.0354</td>\n",
       "      <td>-0.1119</td>\n",
       "      <td>0.0755</td>\n",
       "      <td>-0.0033</td>\n",
       "      <td>...</td>\n",
       "      <td>0.0022</td>\n",
       "      <td>-0.0183</td>\n",
       "      <td>-0.0354</td>\n",
       "      <td>0.0524</td>\n",
       "      <td>0.0755</td>\n",
       "      <td>-0.1119</td>\n",
       "      <td>-0.0033</td>\n",
       "      <td>0.1392</td>\n",
       "      <td>-0.0124</td>\n",
       "      <td>0.0120</td>\n",
       "    </tr>\n",
       "    <tr>\n",
       "      <th>4</th>\n",
       "      <td>2019-05-17</td>\n",
       "      <td>0.0127</td>\n",
       "      <td>0.0165</td>\n",
       "      <td>-0.0009</td>\n",
       "      <td>0.0284</td>\n",
       "      <td>-0.0081</td>\n",
       "      <td>-0.0803</td>\n",
       "      <td>-0.1576</td>\n",
       "      <td>0.0878</td>\n",
       "      <td>0.0161</td>\n",
       "      <td>...</td>\n",
       "      <td>0.0165</td>\n",
       "      <td>-0.0081</td>\n",
       "      <td>-0.0803</td>\n",
       "      <td>0.0642</td>\n",
       "      <td>0.0878</td>\n",
       "      <td>-0.1576</td>\n",
       "      <td>0.0161</td>\n",
       "      <td>0.0127</td>\n",
       "      <td>-0.0627</td>\n",
       "      <td>-0.0009</td>\n",
       "    </tr>\n",
       "  </tbody>\n",
       "</table>\n",
       "<p>5 rows × 43 columns</p>\n",
       "</div>"
      ],
      "text/plain": [
       "   Unnamed: 0  LYB UN Equity Twitter Sentiment Daily Average  \\\n",
       "0  2019-05-13                                         0.0000   \n",
       "1  2019-05-14                                        -0.0384   \n",
       "2  2019-05-15                                         0.0521   \n",
       "3  2019-05-16                                         0.1392   \n",
       "4  2019-05-17                                         0.0127   \n",
       "\n",
       "   AXP UN Equity Twitter Sentiment Daily Average  \\\n",
       "0                                        -0.0498   \n",
       "1                                         0.0000   \n",
       "2                                        -0.0077   \n",
       "3                                         0.0022   \n",
       "4                                         0.0165   \n",
       "\n",
       "   VZ UN Equity Twitter Sentiment Daily Average  \\\n",
       "0                                       -0.0149   \n",
       "1                                       -0.0182   \n",
       "2                                        0.0029   \n",
       "3                                        0.0120   \n",
       "4                                       -0.0009   \n",
       "\n",
       "   AVGO UW Equity Twitter Sentiment Daily Average  \\\n",
       "0                                          0.0325   \n",
       "1                                          0.1987   \n",
       "2                                          0.0708   \n",
       "3                                         -0.0347   \n",
       "4                                          0.0284   \n",
       "\n",
       "   BA UN Equity Twitter Sentiment Daily Average  \\\n",
       "0                                       -0.0566   \n",
       "1                                       -0.0543   \n",
       "2                                       -0.0243   \n",
       "3                                       -0.0183   \n",
       "4                                       -0.0081   \n",
       "\n",
       "   CAT UN Equity Twitter Sentiment Daily Average  \\\n",
       "0                                        -0.1278   \n",
       "1                                        -0.1077   \n",
       "2                                        -0.0749   \n",
       "3                                        -0.0354   \n",
       "4                                        -0.0803   \n",
       "\n",
       "   JPM UN Equity Twitter Sentiment Daily Average  \\\n",
       "0                                         0.0982   \n",
       "1                                        -0.0246   \n",
       "2                                         0.0260   \n",
       "3                                        -0.1119   \n",
       "4                                        -0.1576   \n",
       "\n",
       "   CVX UN Equity Twitter Sentiment Daily Average  \\\n",
       "0                                         0.0557   \n",
       "1                                         0.0803   \n",
       "2                                         0.0298   \n",
       "3                                         0.0755   \n",
       "4                                         0.0878   \n",
       "\n",
       "   KO UN Equity Twitter Sentiment Daily Average  ...  \\\n",
       "0                                       -0.0074  ...   \n",
       "1                                        0.0194  ...   \n",
       "2                                        0.1013  ...   \n",
       "3                                       -0.0033  ...   \n",
       "4                                        0.0161  ...   \n",
       "\n",
       "   AXP Twitter Sentiment Daily Average  BA Twitter Sentiment Daily Average  \\\n",
       "0                              -0.0498                             -0.0566   \n",
       "1                               0.0000                             -0.0543   \n",
       "2                              -0.0077                             -0.0243   \n",
       "3                               0.0022                             -0.0183   \n",
       "4                               0.0165                             -0.0081   \n",
       "\n",
       "   CAT Twitter Sentiment Daily Average  CMG Twitter Sentiment Daily Average  \\\n",
       "0                              -0.1278                              -0.0144   \n",
       "1                              -0.1077                              -0.0233   \n",
       "2                              -0.0749                               0.0422   \n",
       "3                              -0.0354                               0.0524   \n",
       "4                              -0.0803                               0.0642   \n",
       "\n",
       "   CVX Twitter Sentiment Daily Average  JPM Twitter Sentiment Daily Average  \\\n",
       "0                               0.0557                               0.0982   \n",
       "1                               0.0803                              -0.0246   \n",
       "2                               0.0298                               0.0260   \n",
       "3                               0.0755                              -0.1119   \n",
       "4                               0.0878                              -0.1576   \n",
       "\n",
       "   KO Twitter Sentiment Daily Average  LYB Twitter Sentiment Daily Average  \\\n",
       "0                             -0.0074                               0.0000   \n",
       "1                              0.0194                              -0.0384   \n",
       "2                              0.1013                               0.0521   \n",
       "3                             -0.0033                               0.1392   \n",
       "4                              0.0161                               0.0127   \n",
       "\n",
       "   NVDA Twitter Sentiment Daily Average  VZ Twitter Sentiment Daily Average  \n",
       "0                               -0.0087                             -0.0149  \n",
       "1                               -0.0255                             -0.0182  \n",
       "2                               -0.0151                              0.0029  \n",
       "3                               -0.0124                              0.0120  \n",
       "4                               -0.0627                             -0.0009  \n",
       "\n",
       "[5 rows x 43 columns]"
      ]
     },
     "execution_count": 82,
     "metadata": {},
     "output_type": "execute_result"
    }
   ],
   "source": [
    "df.head()"
   ]
  },
  {
   "cell_type": "markdown",
   "metadata": {},
   "source": [
    "# LYB"
   ]
  },
  {
   "cell_type": "code",
   "execution_count": 83,
   "metadata": {},
   "outputs": [],
   "source": [
    "X_LYB = df[['SPY', 'LYB UN Equity Twitter Sentiment Daily Average', 'gdp', 'cpi', 'unemployment_rate']]\n",
    "y_LYB = df['LYB'] "
   ]
  },
  {
   "cell_type": "code",
   "execution_count": 84,
   "metadata": {},
   "outputs": [],
   "source": [
    "X_train, X_test, y_train, y_test = train_test_split(X_LYB, y_LYB, test_size=0.2, random_state=42)"
   ]
  },
  {
   "cell_type": "code",
   "execution_count": 141,
   "metadata": {},
   "outputs": [
    {
     "name": "stdout",
     "output_type": "stream",
     "text": [
      "Ridge Regression MSE: 0.00014250812575735672\n",
      "Ridge Regression R^2: -0.03764906646845567\n"
     ]
    }
   ],
   "source": [
    "ridge_model = Ridge(alpha=1.0)  # El parámetro alpha controla la complejidad del modelo (mayor alpha, mayor regularización)\n",
    "ridge_model.fit(X_train, y_train)\n",
    "\n",
    "# Predicciones y evaluación\n",
    "y_pred_ridge = ridge_model.predict(X_test)\n",
    "mse_ridge = mean_squared_error(y_test, y_pred_ridge)\n",
    "r2_ridge = r2_score(y_test, y_pred_ridge)\n",
    "\n",
    "print(f\"Ridge Regression MSE: {mse_ridge}\")\n",
    "print(f\"Ridge Regression R^2: {r2_ridge}\")"
   ]
  },
  {
   "cell_type": "code",
   "execution_count": 143,
   "metadata": {},
   "outputs": [
    {
     "name": "stdout",
     "output_type": "stream",
     "text": [
      "Coeficientes del modelo Ridge: [ 1.31543981e-05 -2.33493975e-04  9.83366558e-05  1.94573305e-02]\n",
      "Intercepto del modelo Ridge: 0.000559569764662053\n"
     ]
    }
   ],
   "source": [
    "\n",
    "coeficientes = ridge_model.coef_\n",
    "\n",
    "print(\"Coeficientes del modelo Ridge:\", coeficientes)\n",
    "\n",
    "intercepto = ridge_model.intercept_\n",
    "print(\"Intercepto del modelo Ridge:\", intercepto)\n"
   ]
  },
  {
   "cell_type": "code",
   "execution_count": 86,
   "metadata": {},
   "outputs": [
    {
     "name": "stdout",
     "output_type": "stream",
     "text": [
      "Lasso Regression MSE: 0.0006915035409507742\n",
      "Lasso Regression R^2: -0.0003044333366104546\n"
     ]
    }
   ],
   "source": [
    "lasso_model = Lasso(alpha=0.1)  # El parámetro alpha también controla la regularización en Lasso\n",
    "lasso_model.fit(X_train, y_train)\n",
    "\n",
    "# Predicciones y evaluación\n",
    "y_pred_lasso = lasso_model.predict(X_test)\n",
    "mse_lasso = mean_squared_error(y_test, y_pred_lasso)\n",
    "r2_lasso = r2_score(y_test, y_pred_lasso)\n",
    "\n",
    "print(f\"Lasso Regression MSE: {mse_lasso}\")\n",
    "print(f\"Lasso Regression R^2: {r2_lasso}\")"
   ]
  },
  {
   "cell_type": "markdown",
   "metadata": {},
   "source": [
    "# AXP"
   ]
  },
  {
   "cell_type": "code",
   "execution_count": 87,
   "metadata": {},
   "outputs": [],
   "source": [
    "X_AXP = df[['SPY', 'AXP UN Equity Twitter Sentiment Daily Average', 'gdp', 'cpi', 'unemployment_rate']]\n",
    "y_AXP = df['AXP'] "
   ]
  },
  {
   "cell_type": "code",
   "execution_count": 88,
   "metadata": {},
   "outputs": [],
   "source": [
    "X_train, X_test, y_train, y_test = train_test_split(X_AXP, y_AXP, test_size=0.2, random_state=42)"
   ]
  },
  {
   "cell_type": "code",
   "execution_count": 89,
   "metadata": {},
   "outputs": [
    {
     "name": "stdout",
     "output_type": "stream",
     "text": [
      "Ridge Regression MSE: 0.0005982171606709729\n",
      "Ridge Regression R^2: 0.146482365072774\n"
     ]
    }
   ],
   "source": [
    "ridge_model = Ridge(alpha=1.0)  # El parámetro alpha controla la complejidad del modelo (mayor alpha, mayor regularización)\n",
    "ridge_model.fit(X_train, y_train)\n",
    "\n",
    "# Predicciones y evaluación\n",
    "y_pred_ridge = ridge_model.predict(X_test)\n",
    "mse_ridge = mean_squared_error(y_test, y_pred_ridge)\n",
    "r2_ridge = r2_score(y_test, y_pred_ridge)\n",
    "\n",
    "print(f\"Ridge Regression MSE: {mse_ridge}\")\n",
    "print(f\"Ridge Regression R^2: {r2_ridge}\")"
   ]
  },
  {
   "cell_type": "code",
   "execution_count": 90,
   "metadata": {},
   "outputs": [
    {
     "name": "stdout",
     "output_type": "stream",
     "text": [
      "Lasso Regression MSE: 0.0007035611531352082\n",
      "Lasso Regression R^2: -0.003819166232374993\n"
     ]
    }
   ],
   "source": [
    "lasso_model = Lasso(alpha=0.1)  # El parámetro alpha también controla la regularización en Lasso\n",
    "lasso_model.fit(X_train, y_train)\n",
    "\n",
    "# Predicciones y evaluación\n",
    "y_pred_lasso = lasso_model.predict(X_test)\n",
    "mse_lasso = mean_squared_error(y_test, y_pred_lasso)\n",
    "r2_lasso = r2_score(y_test, y_pred_lasso)\n",
    "\n",
    "print(f\"Lasso Regression MSE: {mse_lasso}\")\n",
    "print(f\"Lasso Regression R^2: {r2_lasso}\")"
   ]
  },
  {
   "cell_type": "markdown",
   "metadata": {},
   "source": [
    "# VZ"
   ]
  },
  {
   "cell_type": "code",
   "execution_count": 91,
   "metadata": {},
   "outputs": [],
   "source": [
    "X_VZ = df[['SPY', 'VZ UN Equity Twitter Sentiment Daily Average', 'gdp', 'cpi', 'unemployment_rate']]\n",
    "y_VZ = df['VZ'] "
   ]
  },
  {
   "cell_type": "code",
   "execution_count": 92,
   "metadata": {},
   "outputs": [],
   "source": [
    "X_train, X_test, y_train, y_test = train_test_split(X_VZ, y_VZ, test_size=0.2, random_state=42)"
   ]
  },
  {
   "cell_type": "code",
   "execution_count": 93,
   "metadata": {},
   "outputs": [
    {
     "name": "stdout",
     "output_type": "stream",
     "text": [
      "Ridge Regression MSE: 0.00013271020032511164\n",
      "Ridge Regression R^2: 0.03369288771180845\n"
     ]
    }
   ],
   "source": [
    "ridge_model = Ridge(alpha=1.0)  # El parámetro alpha controla la complejidad del modelo (mayor alpha, mayor regularización)\n",
    "ridge_model.fit(X_train, y_train)\n",
    "\n",
    "# Predicciones y evaluación\n",
    "y_pred_ridge = ridge_model.predict(X_test)\n",
    "mse_ridge = mean_squared_error(y_test, y_pred_ridge)\n",
    "r2_ridge = r2_score(y_test, y_pred_ridge)\n",
    "\n",
    "print(f\"Ridge Regression MSE: {mse_ridge}\")\n",
    "print(f\"Ridge Regression R^2: {r2_ridge}\")"
   ]
  },
  {
   "cell_type": "code",
   "execution_count": 94,
   "metadata": {},
   "outputs": [
    {
     "name": "stdout",
     "output_type": "stream",
     "text": [
      "Lasso Regression MSE: 0.00013748908226433835\n",
      "Lasso Regression R^2: -0.0011037412989804984\n"
     ]
    }
   ],
   "source": [
    "lasso_model = Lasso(alpha=0.1)  # El parámetro alpha también controla la regularización en Lasso\n",
    "lasso_model.fit(X_train, y_train)\n",
    "\n",
    "# Predicciones y evaluación\n",
    "y_pred_lasso = lasso_model.predict(X_test)\n",
    "mse_lasso = mean_squared_error(y_test, y_pred_lasso)\n",
    "r2_lasso = r2_score(y_test, y_pred_lasso)\n",
    "\n",
    "print(f\"Lasso Regression MSE: {mse_lasso}\")\n",
    "print(f\"Lasso Regression R^2: {r2_lasso}\")"
   ]
  },
  {
   "cell_type": "markdown",
   "metadata": {},
   "source": [
    "# AVGO"
   ]
  },
  {
   "cell_type": "code",
   "execution_count": 95,
   "metadata": {},
   "outputs": [],
   "source": [
    "X_AVGO = df[['SPY', 'AVGO UW Equity Twitter Sentiment Daily Average', 'gdp', 'cpi', 'unemployment_rate']]\n",
    "y_AVGO = df['AVGO'] "
   ]
  },
  {
   "cell_type": "code",
   "execution_count": 96,
   "metadata": {},
   "outputs": [],
   "source": [
    "X_train, X_test, y_train, y_test = train_test_split(X_AVGO, y_AVGO, test_size=0.2, random_state=42)"
   ]
  },
  {
   "cell_type": "code",
   "execution_count": 97,
   "metadata": {},
   "outputs": [
    {
     "name": "stdout",
     "output_type": "stream",
     "text": [
      "Ridge Regression MSE: 0.0004629932737517273\n",
      "Ridge Regression R^2: 0.18462806484591465\n"
     ]
    }
   ],
   "source": [
    "ridge_model = Ridge(alpha=1.0)  # El parámetro alpha controla la complejidad del modelo (mayor alpha, mayor regularización)\n",
    "ridge_model.fit(X_train, y_train)\n",
    "\n",
    "# Predicciones y evaluación\n",
    "y_pred_ridge = ridge_model.predict(X_test)\n",
    "mse_ridge = mean_squared_error(y_test, y_pred_ridge)\n",
    "r2_ridge = r2_score(y_test, y_pred_ridge)\n",
    "\n",
    "print(f\"Ridge Regression MSE: {mse_ridge}\")\n",
    "print(f\"Ridge Regression R^2: {r2_ridge}\")"
   ]
  },
  {
   "cell_type": "code",
   "execution_count": 98,
   "metadata": {},
   "outputs": [
    {
     "name": "stdout",
     "output_type": "stream",
     "text": [
      "Lasso Regression MSE: 0.0005700127813130187\n",
      "Lasso Regression R^2: -0.0038427141621613092\n"
     ]
    }
   ],
   "source": [
    "lasso_model = Lasso(alpha=0.1)  # El parámetro alpha también controla la regularización en Lasso\n",
    "lasso_model.fit(X_train, y_train)\n",
    "\n",
    "# Predicciones y evaluación\n",
    "y_pred_lasso = lasso_model.predict(X_test)\n",
    "mse_lasso = mean_squared_error(y_test, y_pred_lasso)\n",
    "r2_lasso = r2_score(y_test, y_pred_lasso)\n",
    "\n",
    "print(f\"Lasso Regression MSE: {mse_lasso}\")\n",
    "print(f\"Lasso Regression R^2: {r2_lasso}\")"
   ]
  },
  {
   "cell_type": "markdown",
   "metadata": {},
   "source": [
    "# BA"
   ]
  },
  {
   "cell_type": "code",
   "execution_count": 99,
   "metadata": {},
   "outputs": [],
   "source": [
    "X_BA = df[['SPY', 'BA UN Equity Twitter Sentiment Daily Average', 'gdp', 'cpi', 'unemployment_rate']]\n",
    "y_BA = df['BA'] "
   ]
  },
  {
   "cell_type": "code",
   "execution_count": 100,
   "metadata": {},
   "outputs": [],
   "source": [
    "X_train, X_test, y_train, y_test = train_test_split(X_BA, y_BA, test_size=0.2, random_state=42)"
   ]
  },
  {
   "cell_type": "code",
   "execution_count": 101,
   "metadata": {},
   "outputs": [
    {
     "name": "stdout",
     "output_type": "stream",
     "text": [
      "Ridge Regression MSE: 0.0010571814734973693\n",
      "Ridge Regression R^2: 0.11224089679341276\n"
     ]
    }
   ],
   "source": [
    "ridge_model = Ridge(alpha=1.0)  # El parámetro alpha controla la complejidad del modelo (mayor alpha, mayor regularización)\n",
    "ridge_model.fit(X_train, y_train)\n",
    "\n",
    "# Predicciones y evaluación\n",
    "y_pred_ridge = ridge_model.predict(X_test)\n",
    "mse_ridge = mean_squared_error(y_test, y_pred_ridge)\n",
    "r2_ridge = r2_score(y_test, y_pred_ridge)\n",
    "\n",
    "print(f\"Ridge Regression MSE: {mse_ridge}\")\n",
    "print(f\"Ridge Regression R^2: {r2_ridge}\")"
   ]
  },
  {
   "cell_type": "code",
   "execution_count": 102,
   "metadata": {},
   "outputs": [
    {
     "name": "stdout",
     "output_type": "stream",
     "text": [
      "Lasso Regression MSE: 0.0011946954950231069\n",
      "Lasso Regression R^2: -0.0032353270039617854\n"
     ]
    }
   ],
   "source": [
    "lasso_model = Lasso(alpha=0.1)  # El parámetro alpha también controla la regularización en Lasso\n",
    "lasso_model.fit(X_train, y_train)\n",
    "\n",
    "# Predicciones y evaluación\n",
    "y_pred_lasso = lasso_model.predict(X_test)\n",
    "mse_lasso = mean_squared_error(y_test, y_pred_lasso)\n",
    "r2_lasso = r2_score(y_test, y_pred_lasso)\n",
    "\n",
    "print(f\"Lasso Regression MSE: {mse_lasso}\")\n",
    "print(f\"Lasso Regression R^2: {r2_lasso}\")"
   ]
  },
  {
   "cell_type": "markdown",
   "metadata": {},
   "source": [
    "# ABBV"
   ]
  },
  {
   "cell_type": "code",
   "execution_count": 103,
   "metadata": {},
   "outputs": [],
   "source": [
    "X_ABBV = df[['SPY', 'ABBV UN Equity Twitter Sentiment Daily Average', 'gdp', 'cpi', 'unemployment_rate']]\n",
    "y_ABBV = df['ABBV'] "
   ]
  },
  {
   "cell_type": "code",
   "execution_count": 104,
   "metadata": {},
   "outputs": [],
   "source": [
    "X_train, X_test, y_train, y_test = train_test_split(X_ABBV, y_ABBV, test_size=0.2, random_state=42)"
   ]
  },
  {
   "cell_type": "code",
   "execution_count": 105,
   "metadata": {},
   "outputs": [
    {
     "name": "stdout",
     "output_type": "stream",
     "text": [
      "Ridge Regression MSE: 0.0001996300891442153\n",
      "Ridge Regression R^2: 0.08566351905792946\n"
     ]
    }
   ],
   "source": [
    "ridge_model = Ridge(alpha=1.0)  # El parámetro alpha controla la complejidad del modelo (mayor alpha, mayor regularización)\n",
    "ridge_model.fit(X_train, y_train)\n",
    "\n",
    "# Predicciones y evaluación\n",
    "y_pred_ridge = ridge_model.predict(X_test)\n",
    "mse_ridge = mean_squared_error(y_test, y_pred_ridge)\n",
    "r2_ridge = r2_score(y_test, y_pred_ridge)\n",
    "\n",
    "print(f\"Ridge Regression MSE: {mse_ridge}\")\n",
    "print(f\"Ridge Regression R^2: {r2_ridge}\")"
   ]
  },
  {
   "cell_type": "code",
   "execution_count": 106,
   "metadata": {},
   "outputs": [
    {
     "name": "stdout",
     "output_type": "stream",
     "text": [
      "Lasso Regression MSE: 0.00021842440870211745\n",
      "Lasso Regression R^2: -0.00041735221723571136\n"
     ]
    }
   ],
   "source": [
    "lasso_model = Lasso(alpha=0.1)  # El parámetro alpha también controla la regularización en Lasso\n",
    "lasso_model.fit(X_train, y_train)\n",
    "\n",
    "# Predicciones y evaluación\n",
    "y_pred_lasso = lasso_model.predict(X_test)\n",
    "mse_lasso = mean_squared_error(y_test, y_pred_lasso)\n",
    "r2_lasso = r2_score(y_test, y_pred_lasso)\n",
    "\n",
    "print(f\"Lasso Regression MSE: {mse_lasso}\")\n",
    "print(f\"Lasso Regression R^2: {r2_lasso}\")"
   ]
  },
  {
   "cell_type": "markdown",
   "metadata": {},
   "source": [
    "# CAT"
   ]
  },
  {
   "cell_type": "code",
   "execution_count": 107,
   "metadata": {},
   "outputs": [],
   "source": [
    "X_CAT = df[['SPY', 'CAT UN Equity Twitter Sentiment Daily Average', 'gdp', 'cpi', 'unemployment_rate']]\n",
    "y_CAT = df['CAT'] "
   ]
  },
  {
   "cell_type": "code",
   "execution_count": 108,
   "metadata": {},
   "outputs": [],
   "source": [
    "X_train, X_test, y_train, y_test = train_test_split(X_CAT, y_CAT, test_size=0.2, random_state=42)"
   ]
  },
  {
   "cell_type": "code",
   "execution_count": 109,
   "metadata": {},
   "outputs": [
    {
     "name": "stdout",
     "output_type": "stream",
     "text": [
      "Ridge Regression MSE: 0.00043365523318725983\n",
      "Ridge Regression R^2: 0.11407630843012007\n"
     ]
    }
   ],
   "source": [
    "ridge_model = Ridge(alpha=1.0)  # El parámetro alpha controla la complejidad del modelo (mayor alpha, mayor regularización)\n",
    "ridge_model.fit(X_train, y_train)\n",
    "\n",
    "# Predicciones y evaluación\n",
    "y_pred_ridge = ridge_model.predict(X_test)\n",
    "mse_ridge = mean_squared_error(y_test, y_pred_ridge)\n",
    "r2_ridge = r2_score(y_test, y_pred_ridge)\n",
    "\n",
    "print(f\"Ridge Regression MSE: {mse_ridge}\")\n",
    "print(f\"Ridge Regression R^2: {r2_ridge}\")"
   ]
  },
  {
   "cell_type": "code",
   "execution_count": 110,
   "metadata": {},
   "outputs": [
    {
     "name": "stdout",
     "output_type": "stream",
     "text": [
      "Lasso Regression MSE: 0.0004895513899205651\n",
      "Lasso Regression R^2: -0.00011516379951381772\n"
     ]
    }
   ],
   "source": [
    "lasso_model = Lasso(alpha=0.1)  # El parámetro alpha también controla la regularización en Lasso\n",
    "lasso_model.fit(X_train, y_train)\n",
    "\n",
    "# Predicciones y evaluación\n",
    "y_pred_lasso = lasso_model.predict(X_test)\n",
    "mse_lasso = mean_squared_error(y_test, y_pred_lasso)\n",
    "r2_lasso = r2_score(y_test, y_pred_lasso)\n",
    "\n",
    "print(f\"Lasso Regression MSE: {mse_lasso}\")\n",
    "print(f\"Lasso Regression R^2: {r2_lasso}\")"
   ]
  },
  {
   "cell_type": "markdown",
   "metadata": {},
   "source": [
    "# JPM"
   ]
  },
  {
   "cell_type": "code",
   "execution_count": 111,
   "metadata": {},
   "outputs": [],
   "source": [
    "X_JPM = df[['SPY', 'JPM UN Equity Twitter Sentiment Daily Average', 'gdp', 'cpi', 'unemployment_rate']]\n",
    "y_JPM = df['JPM'] "
   ]
  },
  {
   "cell_type": "code",
   "execution_count": 112,
   "metadata": {},
   "outputs": [],
   "source": [
    "X_train, X_test, y_train, y_test = train_test_split(X_JPM, y_JPM, test_size=0.2, random_state=42)"
   ]
  },
  {
   "cell_type": "code",
   "execution_count": 113,
   "metadata": {},
   "outputs": [
    {
     "name": "stdout",
     "output_type": "stream",
     "text": [
      "Ridge Regression MSE: 0.0003119774893686293\n",
      "Ridge Regression R^2: 0.1697145342497265\n"
     ]
    }
   ],
   "source": [
    "ridge_model = Ridge(alpha=1.0)  # El parámetro alpha controla la complejidad del modelo (mayor alpha, mayor regularización)\n",
    "ridge_model.fit(X_train, y_train)\n",
    "\n",
    "# Predicciones y evaluación\n",
    "y_pred_ridge = ridge_model.predict(X_test)\n",
    "mse_ridge = mean_squared_error(y_test, y_pred_ridge)\n",
    "r2_ridge = r2_score(y_test, y_pred_ridge)\n",
    "\n",
    "print(f\"Ridge Regression MSE: {mse_ridge}\")\n",
    "print(f\"Ridge Regression R^2: {r2_ridge}\")"
   ]
  },
  {
   "cell_type": "code",
   "execution_count": 114,
   "metadata": {},
   "outputs": [
    {
     "name": "stdout",
     "output_type": "stream",
     "text": [
      "Lasso Regression MSE: 0.00037651975024296207\n",
      "Lasso Regression R^2: -0.0020558753367851956\n"
     ]
    }
   ],
   "source": [
    "lasso_model = Lasso(alpha=0.1)  # El parámetro alpha también controla la regularización en Lasso\n",
    "lasso_model.fit(X_train, y_train)\n",
    "\n",
    "# Predicciones y evaluación\n",
    "y_pred_lasso = lasso_model.predict(X_test)\n",
    "mse_lasso = mean_squared_error(y_test, y_pred_lasso)\n",
    "r2_lasso = r2_score(y_test, y_pred_lasso)\n",
    "\n",
    "print(f\"Lasso Regression MSE: {mse_lasso}\")\n",
    "print(f\"Lasso Regression R^2: {r2_lasso}\")"
   ]
  },
  {
   "cell_type": "markdown",
   "metadata": {},
   "source": [
    "# CVX"
   ]
  },
  {
   "cell_type": "code",
   "execution_count": 115,
   "metadata": {},
   "outputs": [],
   "source": [
    "X_CVX = df[['SPY', 'CVX UN Equity Twitter Sentiment Daily Average', 'gdp', 'cpi', 'unemployment_rate']]\n",
    "y_CVX = df['CVX'] "
   ]
  },
  {
   "cell_type": "code",
   "execution_count": 116,
   "metadata": {},
   "outputs": [],
   "source": [
    "X_train, X_test, y_train, y_test = train_test_split(X_CVX, y_JPM, test_size=0.2, random_state=42)"
   ]
  },
  {
   "cell_type": "code",
   "execution_count": 117,
   "metadata": {},
   "outputs": [
    {
     "name": "stdout",
     "output_type": "stream",
     "text": [
      "Ridge Regression MSE: 0.00031324798995490733\n",
      "Ridge Regression R^2: 0.166333270514485\n"
     ]
    }
   ],
   "source": [
    "ridge_model = Ridge(alpha=1.0)  # El parámetro alpha controla la complejidad del modelo (mayor alpha, mayor regularización)\n",
    "ridge_model.fit(X_train, y_train)\n",
    "\n",
    "# Predicciones y evaluación\n",
    "y_pred_ridge = ridge_model.predict(X_test)\n",
    "mse_ridge = mean_squared_error(y_test, y_pred_ridge)\n",
    "r2_ridge = r2_score(y_test, y_pred_ridge)\n",
    "\n",
    "print(f\"Ridge Regression MSE: {mse_ridge}\")\n",
    "print(f\"Ridge Regression R^2: {r2_ridge}\")"
   ]
  },
  {
   "cell_type": "code",
   "execution_count": 118,
   "metadata": {},
   "outputs": [
    {
     "name": "stdout",
     "output_type": "stream",
     "text": [
      "Lasso Regression MSE: 0.00037651975024296207\n",
      "Lasso Regression R^2: -0.0020558753367851956\n"
     ]
    }
   ],
   "source": [
    "lasso_model = Lasso(alpha=0.1)  # El parámetro alpha también controla la regularización en Lasso\n",
    "lasso_model.fit(X_train, y_train)\n",
    "\n",
    "# Predicciones y evaluación\n",
    "y_pred_lasso = lasso_model.predict(X_test)\n",
    "mse_lasso = mean_squared_error(y_test, y_pred_lasso)\n",
    "r2_lasso = r2_score(y_test, y_pred_lasso)\n",
    "\n",
    "print(f\"Lasso Regression MSE: {mse_lasso}\")\n",
    "print(f\"Lasso Regression R^2: {r2_lasso}\")"
   ]
  },
  {
   "cell_type": "markdown",
   "metadata": {},
   "source": [
    "# CMG"
   ]
  },
  {
   "cell_type": "code",
   "execution_count": 119,
   "metadata": {},
   "outputs": [],
   "source": [
    "X_CMG = df[['SPY', 'CMG US Equity Twitter Sentiment Daily Average', 'gdp', 'cpi', 'unemployment_rate']]\n",
    "y_CMG = df['CMG'] "
   ]
  },
  {
   "cell_type": "code",
   "execution_count": 120,
   "metadata": {},
   "outputs": [],
   "source": [
    "X_train, X_test, y_train, y_test = train_test_split(X_CMG, y_JPM, test_size=0.2, random_state=42)"
   ]
  },
  {
   "cell_type": "code",
   "execution_count": 121,
   "metadata": {},
   "outputs": [
    {
     "name": "stdout",
     "output_type": "stream",
     "text": [
      "Ridge Regression MSE: 0.00031184967368770507\n",
      "Ridge Regression R^2: 0.1700546982223936\n"
     ]
    }
   ],
   "source": [
    "ridge_model = Ridge(alpha=1.0)  # El parámetro alpha controla la complejidad del modelo (mayor alpha, mayor regularización)\n",
    "ridge_model.fit(X_train, y_train)\n",
    "\n",
    "# Predicciones y evaluación\n",
    "y_pred_ridge = ridge_model.predict(X_test)\n",
    "mse_ridge = mean_squared_error(y_test, y_pred_ridge)\n",
    "r2_ridge = r2_score(y_test, y_pred_ridge)\n",
    "\n",
    "print(f\"Ridge Regression MSE: {mse_ridge}\")\n",
    "print(f\"Ridge Regression R^2: {r2_ridge}\")"
   ]
  },
  {
   "cell_type": "code",
   "execution_count": 122,
   "metadata": {},
   "outputs": [
    {
     "name": "stdout",
     "output_type": "stream",
     "text": [
      "Lasso Regression MSE: 0.00037651975024296207\n",
      "Lasso Regression R^2: -0.0020558753367851956\n"
     ]
    }
   ],
   "source": [
    "lasso_model = Lasso(alpha=0.1)  # El parámetro alpha también controla la regularización en Lasso\n",
    "lasso_model.fit(X_train, y_train)\n",
    "\n",
    "# Predicciones y evaluación\n",
    "y_pred_lasso = lasso_model.predict(X_test)\n",
    "mse_lasso = mean_squared_error(y_test, y_pred_lasso)\n",
    "r2_lasso = r2_score(y_test, y_pred_lasso)\n",
    "\n",
    "print(f\"Lasso Regression MSE: {mse_lasso}\")\n",
    "print(f\"Lasso Regression R^2: {r2_lasso}\")"
   ]
  },
  {
   "cell_type": "markdown",
   "metadata": {},
   "source": [
    "# TSLA"
   ]
  },
  {
   "cell_type": "code",
   "execution_count": 123,
   "metadata": {},
   "outputs": [],
   "source": [
    "X_TSLA = df[['TSLA', 'TSLA US Equity Twitter Sentiment Daily Average', 'gdp', 'cpi', 'unemployment_rate']]\n",
    "y_TSLA = df['TSLA'] "
   ]
  },
  {
   "cell_type": "code",
   "execution_count": 124,
   "metadata": {},
   "outputs": [],
   "source": [
    "X_train, X_test, y_train, y_test = train_test_split(X_TSLA, y_TSLA, test_size=0.2, random_state=42)"
   ]
  },
  {
   "cell_type": "code",
   "execution_count": 125,
   "metadata": {},
   "outputs": [
    {
     "name": "stdout",
     "output_type": "stream",
     "text": [
      "Ridge Regression MSE: 0.0002199176601238421\n",
      "Ridge Regression R^2: 0.8614880891453109\n"
     ]
    }
   ],
   "source": [
    "ridge_model = Ridge(alpha=1.0)  # El parámetro alpha controla la complejidad del modelo (mayor alpha, mayor regularización)\n",
    "ridge_model.fit(X_train, y_train)\n",
    "\n",
    "# Predicciones y evaluación\n",
    "y_pred_ridge = ridge_model.predict(X_test)\n",
    "mse_ridge = mean_squared_error(y_test, y_pred_ridge)\n",
    "r2_ridge = r2_score(y_test, y_pred_ridge)\n",
    "\n",
    "print(f\"Ridge Regression MSE: {mse_ridge}\")\n",
    "print(f\"Ridge Regression R^2: {r2_ridge}\")"
   ]
  },
  {
   "cell_type": "code",
   "execution_count": 126,
   "metadata": {},
   "outputs": [
    {
     "name": "stdout",
     "output_type": "stream",
     "text": [
      "Lasso Regression MSE: 0.0015877298811266057\n",
      "Lasso Regression R^2: -8.365094878337587e-06\n"
     ]
    }
   ],
   "source": [
    "lasso_model = Lasso(alpha=0.1)  # El parámetro alpha también controla la regularización en Lasso\n",
    "lasso_model.fit(X_train, y_train)\n",
    "\n",
    "# Predicciones y evaluación\n",
    "y_pred_lasso = lasso_model.predict(X_test)\n",
    "mse_lasso = mean_squared_error(y_test, y_pred_lasso)\n",
    "r2_lasso = r2_score(y_test, y_pred_lasso)\n",
    "\n",
    "print(f\"Lasso Regression MSE: {mse_lasso}\")\n",
    "print(f\"Lasso Regression R^2: {r2_lasso}\")"
   ]
  },
  {
   "cell_type": "markdown",
   "metadata": {},
   "source": [
    "# NVDA"
   ]
  },
  {
   "cell_type": "code",
   "execution_count": 127,
   "metadata": {},
   "outputs": [],
   "source": [
    "X_NVDA = df[['NVDA', 'NVDA US Equity Twitter Sentiment Daily Average', 'gdp', 'cpi', 'unemployment_rate']]\n",
    "y_NVDA = df['NVDA'] "
   ]
  },
  {
   "cell_type": "code",
   "execution_count": 128,
   "metadata": {},
   "outputs": [],
   "source": [
    "X_train, X_test, y_train, y_test = train_test_split(X_NVDA, y_NVDA, test_size=0.2, random_state=42)"
   ]
  },
  {
   "cell_type": "code",
   "execution_count": 129,
   "metadata": {},
   "outputs": [
    {
     "name": "stdout",
     "output_type": "stream",
     "text": [
      "Ridge Regression MSE: 0.00023847477770885667\n",
      "Ridge Regression R^2: 0.7657933538025483\n"
     ]
    }
   ],
   "source": [
    "ridge_model = Ridge(alpha=1.0)  # El parámetro alpha controla la complejidad del modelo (mayor alpha, mayor regularización)\n",
    "ridge_model.fit(X_train, y_train)\n",
    "\n",
    "# Predicciones y evaluación\n",
    "y_pred_ridge = ridge_model.predict(X_test)\n",
    "mse_ridge = mean_squared_error(y_test, y_pred_ridge)\n",
    "r2_ridge = r2_score(y_test, y_pred_ridge)\n",
    "\n",
    "print(f\"Ridge Regression MSE: {mse_ridge}\")\n",
    "print(f\"Ridge Regression R^2: {r2_ridge}\")"
   ]
  },
  {
   "cell_type": "code",
   "execution_count": 130,
   "metadata": {},
   "outputs": [
    {
     "name": "stdout",
     "output_type": "stream",
     "text": [
      "Lasso Regression MSE: 0.0010249235459869257\n",
      "Lasso Regression R^2: -0.006579851423350602\n"
     ]
    }
   ],
   "source": [
    "lasso_model = Lasso(alpha=0.1)  # El parámetro alpha también controla la regularización en Lasso\n",
    "lasso_model.fit(X_train, y_train)\n",
    "\n",
    "# Predicciones y evaluación\n",
    "y_pred_lasso = lasso_model.predict(X_test)\n",
    "mse_lasso = mean_squared_error(y_test, y_pred_lasso)\n",
    "r2_lasso = r2_score(y_test, y_pred_lasso)\n",
    "\n",
    "print(f\"Lasso Regression MSE: {mse_lasso}\")\n",
    "print(f\"Lasso Regression R^2: {r2_lasso}\")"
   ]
  },
  {
   "cell_type": "code",
   "execution_count": 138,
   "metadata": {},
   "outputs": [
    {
     "name": "stdout",
     "output_type": "stream",
     "text": [
      "   Ticker  MSE Ridge  R2 Ridge  MSE Lasso  R2 Lasso\n",
      "0    ABBV   0.000218  0.000695   0.000218 -0.000417\n",
      "1    AVGO   0.000561  0.011325   0.000570 -0.003843\n",
      "2     AXP   0.000705 -0.006543   0.000704 -0.003819\n",
      "3      BA   0.001187  0.003359   0.001195 -0.003235\n",
      "4     CMG   0.000420  0.007452   0.000424 -0.001721\n",
      "5     CAT   0.000489  0.000171   0.000490 -0.000115\n",
      "6     CVX   0.000578 -0.032583   0.000560 -0.001293\n",
      "7     JPM   0.000379 -0.007818   0.000377 -0.002056\n",
      "8      KO   0.000191 -0.014848   0.000188 -0.000265\n",
      "9     LYB   0.000688  0.004356   0.000692 -0.000304\n",
      "10   NVDA   0.001021 -0.002690   0.001025 -0.006580\n",
      "11   TSLA   0.001530  0.036422   0.001588 -0.000008\n",
      "12     VZ   0.000143 -0.037649   0.000137 -0.001104\n"
     ]
    }
   ],
   "source": [
    "import pandas as pd\n",
    "from sklearn.model_selection import train_test_split\n",
    "from sklearn.linear_model import Ridge, Lasso\n",
    "from sklearn.metrics import mean_squared_error, r2_score\n",
    "\n",
    "# Suponiendo que df es tu DataFrame con todas las variables incluyendo los retornos y sentimientos\n",
    "\n",
    "tickers = ['ABBV', 'AVGO', 'AXP', 'BA', 'CMG', 'CAT', 'CVX', 'JPM', 'KO', 'LYB', 'NVDA', 'TSLA', 'VZ']\n",
    "\n",
    "# Crear un DataFrame vacío para almacenar los resultados\n",
    "results = pd.DataFrame()\n",
    "\n",
    "# Ajustar los modelos y almacenar los resultados\n",
    "for ticker in tickers:\n",
    "    X = df[['gdp', 'cpi', 'unemployment_rate', f'{ticker} Twitter Sentiment Daily Average']]\n",
    "    y = df[ticker]\n",
    "    \n",
    "    X_train, X_test, y_train, y_test = train_test_split(X, y, test_size=0.2, random_state=42)\n",
    "    \n",
    "    ridge_model = Ridge(alpha=1.0)\n",
    "    ridge_model.fit(X_train, y_train)\n",
    "    y_pred_ridge = ridge_model.predict(X_test)\n",
    "    \n",
    "    lasso_model = Lasso(alpha=0.1)\n",
    "    lasso_model.fit(X_train, y_train)\n",
    "    y_pred_lasso = lasso_model.predict(X_test)\n",
    "    \n",
    "    # Calcular métricas\n",
    "    mse_ridge = mean_squared_error(y_test, y_pred_ridge)\n",
    "    r2_ridge = r2_score(y_test, y_pred_ridge)\n",
    "    mse_lasso = mean_squared_error(y_test, y_pred_lasso)\n",
    "    r2_lasso = r2_score(y_test, y_pred_lasso)\n",
    "    \n",
    "    # Preparar un DataFrame temporal con los resultados\n",
    "    temp_results = pd.DataFrame({\n",
    "        'Ticker': [ticker],\n",
    "        'MSE Ridge': [mse_ridge],\n",
    "        'R2 Ridge': [r2_ridge],\n",
    "        'MSE Lasso': [mse_lasso],\n",
    "        'R2 Lasso': [r2_lasso]\n",
    "    })\n",
    "\n",
    "    # Concatenar el DataFrame temporal con el DataFrame de resultados\n",
    "    results = pd.concat([results, temp_results], ignore_index=True)\n",
    "\n",
    "# Muestra los resultados\n",
    "print(results)\n"
   ]
  },
  {
   "cell_type": "code",
   "execution_count": 139,
   "metadata": {},
   "outputs": [
    {
     "data": {
      "image/png": "[encoded data removed]",
      "text/plain": [
       "<Figure size 1400x700 with 2 Axes>"
      ]
     },
     "metadata": {},
     "output_type": "display_data"
    }
   ],
   "source": [
    "import matplotlib.pyplot as plt\n",
    "import pandas as pd\n",
    "import numpy as np\n",
    "\n",
    "# Suponiendo que 'results' es tu DataFrame que ya contiene los resultados\n",
    "\n",
    "# Establece un estilo de gráfico\n",
    "plt.style.use('ggplot')\n",
    "\n",
    "# Crea un gráfico de barras para MSE\n",
    "plt.figure(figsize=(14, 7))\n",
    "ax1 = plt.subplot(121)\n",
    "results[['MSE Ridge', 'MSE Lasso']].plot(kind='bar', ax=ax1, color=['skyblue', 'lightgreen'])\n",
    "plt.title('Comparación de MSE por acción')\n",
    "plt.ylabel('MSE')\n",
    "plt.xlabel('Ticker')\n",
    "plt.xticks(np.arange(len(results['Ticker'])), results['Ticker'], rotation=45)\n",
    "plt.legend(['Ridge', 'Lasso'])\n",
    "\n",
    "# Crea un gráfico de barras para R^2\n",
    "ax2 = plt.subplot(122)\n",
    "results[['R2 Ridge', 'R2 Lasso']].plot(kind='bar', ax=ax2, color=['blue', 'green'])\n",
    "plt.title('Comparación de R^2 por acción')\n",
    "plt.ylabel('R^2 Score')\n",
    "plt.xlabel('Ticker')\n",
    "plt.xticks(np.arange(len(results['Ticker'])), results['Ticker'], rotation=45)\n",
    "plt.legend(['Ridge', 'Lasso'])\n",
    "\n",
    "plt.tight_layout()\n",
    "plt.show()\n"
   ]
  },
  {
   "cell_type": "code",
   "execution_count": null,
   "metadata": {},
   "outputs": [],
   "source": []
  }
 ],
 "metadata": {
  "kernelspec": {
   "display_name": "Python 3",
   "language": "python",
   "name": "python3"
  },
  "language_info": {
   "codemirror_mode": {
    "name": "ipython",
    "version": 3
   },
   "file_extension": ".py",
   "mimetype": "text/x-python",
   "name": "python",
   "nbconvert_exporter": "python",
   "pygments_lexer": "ipython3",
   "version": "3.11.5"
  }
 },
 "nbformat": 4,
 "nbformat_minor": 2
}
